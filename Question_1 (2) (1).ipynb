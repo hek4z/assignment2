{
 "cells": [
  {
   "cell_type": "markdown",
   "metadata": {},
   "source": [
    "## Question 1"
   ]
  },
  {
   "cell_type": "markdown",
   "metadata": {},
   "source": [
    "**Q1.** Open the \"tidy_data.pdf\" document in the repo, which is a paper called Tidy Data by Hadley Wickham.\n",
    "\n",
    "  1. Read the abstract. What is this paper about?\n",
    "  - This paper is about how to \"tidy\" a data set, or how to complete a crucial step of the data cleaning process which reduces the need for extensive data manipulation according to Hadley Wickham. \n",
    "  \n",
    "  2. Read the introduction. What is the \"tidy data standard\" intended to accomplish?\n",
    "  - The \"tidy data standard\" intends to make a conventional method of organizing data which allows for easier data cleaning, \"exploration\" and \"analysis\", and proposes a collaborative tool method that prevents the need to rethink and re-research optimal tool methods and pairings.\n",
    "  \n",
    "  3. Read the intro to section 2. What does this sentence mean: \"Like families, tidy datasets are all alike but every messy dataset is messy in its own way.\" What does this sentence mean: \"For a given dataset, it’s usually easy to figure out what are observations and what are variables, but it is surprisingly difficult to precisely define variables and observations in general.\"\n",
    "  - First sentence: This sentence means that just like the categorization of family has common features such as: parental figures, children, sometimes siblings and relatives, datasets have several common and broad features that classify each into the \"dataset\" category. Moreover, just like each family has unique problems, divorce, obesity, greed, neglect, to name a few examples, each data set will have its own unique issue that delineates that set and requires specific attention and or method to remediate and organize. In other words, each data set should have an overall similar structure, but each will have different meanings behind them and unique associated problems. \n",
    "  - Second sentence: This sentence means that once you've made your definition of what variables and observations are, it's easy to separate the variables and observations, but determining these definitions is the difficult part. For example, once you've decided that your variables and observations can be adequately categorized into the definitions that you've chosen for that dataset, it's pretty easy to separate them, but determining the categories/definitions that best fit the dataset for proper analysis is what takes the most thought, time, and effort. \n",
    "  \n",
    "  4. Read Section 2.2. How does Wickham define values, variables, and observations?\n",
    "  - Value: According to wickham, a value is an item, number if quantitative or string if qualitative, that belongs to exactly one variable column and one observation row. \n",
    "  - Variable: A variable categorizes the common attribute across different observations within the data. For example, the height and weight of patients, or the temperature outside over multiple days. \n",
    "  - Observation: An observation is one unit that has several attributes or \"variables\" which are assigned to it. For example, a person, incident, day, school, etc. \n",
    "  \n",
    "  5. How is \"Tidy Data\" defined in section 2.3?\n",
    "  - 1) Variables form the columns\n",
    "  - 2) Each observation is a row\n",
    "  - 3) Each group/type of observational unit forms a table\n",
    "  \n",
    "  6. Read the intro to Section 3 and Section 3.1. What are the 5 most common problems with messy datasets? Why are the data in Table 4 messy? What is \"melting\" a dataset?\n",
    "  - 1) \"Column headers are values, not variable names.\"\n",
    "  - 2) \"Multiple variables are stored in one column.\"\n",
    "  - 3) \"Variables are stored in both rows and columns.\"\n",
    "  - 4) \"Multiple types of observational units are stored in the same table.\"\n",
    "  - 5) \"A single observational unit is stored in multiple tables.\"\n",
    "  - The data in Table 4 are messy because the column headers are values and not variable names and variables are stored in both rows and columns.  \n",
    "  - \"Melting\" means turning columns into rows to make the dataset tidy. \n",
    "  \n",
    "  7. Why, specifically, is table 11 messy but table 12 tidy and \"molten\"?\n",
    "  - Table 11 is messy because it has columns that need to be turned into rows. It also has two sets of columns that can be combined into 2 separate columns, date and value. On the other hand, table 12 is \"molten\" because columns representing each day have been turned into rows, and the date has been concatenated into one column instead of several. \n",
    "  \n",
    "  8. Read Section 6. What is the \"chicken-and-egg\" problem with focusing on tidy data? What does Wickham hope happens in the future with further work on the subject of data wrangling?\n",
    "  - The \"chicken and the egg\" problem with focusing on tidy data is that if tidy data is only as helpful as the tools working on the tidy data, the tools capacity will always be dependent on tidy data. So he says that improving \"tidiness\" is the way to escape this problem instead of trying to change data structures and tools independently. \n",
    "  - Wickham hopes that in the future someone will improve his method of tidiness and the tool packages that he has created along with it. He then offers several possiblities for areas of study that someone could look into to improve his methods. He also wants to make other specific \"frameworks\" that are optimally structured for tidying other kinds of data cleaning tasks not covered in his paper. \n",
    "  "
   ]
  },
  {
   "cell_type": "code",
   "execution_count": null,
   "metadata": {},
   "outputs": [],
   "source": []
  }
 ],
 "metadata": {
  "kernelspec": {
   "display_name": "Python 3",
   "language": "python",
   "name": "python3"
  },
  "language_info": {
   "codemirror_mode": {
    "name": "ipython",
    "version": 3
   },
   "file_extension": ".py",
   "mimetype": "text/x-python",
   "name": "python",
   "nbconvert_exporter": "python",
   "pygments_lexer": "ipython3",
   "version": "3.8.8"
  }
 },
 "nbformat": 4,
 "nbformat_minor": 4
}
